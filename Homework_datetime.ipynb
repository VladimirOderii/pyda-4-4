{
 "cells": [
  {
   "cell_type": "code",
   "execution_count": 11,
   "metadata": {},
   "outputs": [
    {
     "data": {
      "text/plain": [
       "['2019-03-24',\n",
       " '2019-03-25',\n",
       " '2019-03-26',\n",
       " '2019-03-27',\n",
       " '2019-03-28',\n",
       " '2019-03-29']"
      ]
     },
     "execution_count": 11,
     "metadata": {},
     "output_type": "execute_result"
    }
   ],
   "source": [
    "# Task 1\n",
    "import datetime\n",
    "\n",
    "def date_range (start_date, end_date):\n",
    "    \n",
    "    start_date_dt = datetime.datetime.strptime(start_date, '%Y-%m-%d')\n",
    "    end_date_dt = datetime.datetime.strptime(end_date, '%Y-%m-%d')\n",
    "    \n",
    "    date_range_list=[]\n",
    "    counter = start_date_dt+datetime.timedelta(days=1)\n",
    "    \n",
    "    while counter < end_date_dt:\n",
    "        date_range_list.append(counter.strftime('%Y-%m-%d'))\n",
    "        counter += datetime.timedelta(days=1)\n",
    "        \n",
    "    return(date_range_list)\n",
    "\n",
    "date_range('2019-03-23','2019-03-30')"
   ]
  },
  {
   "cell_type": "code",
   "execution_count": 17,
   "metadata": {},
   "outputs": [
    {
     "name": "stdout",
     "output_type": "stream",
     "text": [
      "Начальная дата должна быть меньше конечной\n",
      "Неправильный формат начальной даты. Дата должна быть в формате YYYY-MM-DD\n",
      "Неправильный формат конечной даты. Дата должна быть в формате YYYY-MM-DD\n"
     ]
    },
    {
     "data": {
      "text/plain": [
       "[]"
      ]
     },
     "execution_count": 17,
     "metadata": {},
     "output_type": "execute_result"
    }
   ],
   "source": [
    "# Task 2\n",
    "import datetime\n",
    "\n",
    "def date_range (start_date, end_date):\n",
    "    \n",
    "    date_range_list=[]\n",
    "    \n",
    "    try:\n",
    "        start_date_dt = datetime.datetime.strptime(start_date, '%Y-%m-%d')\n",
    "    except:\n",
    "        print('Неправильный формат начальной даты. Дата должна быть в формате YYYY-MM-DD')\n",
    "        return(date_range_list)\n",
    "    try:\n",
    "        end_date_dt = datetime.datetime.strptime(end_date, '%Y-%m-%d')\n",
    "    except:\n",
    "        print('Неправильный формат конечной даты. Дата должна быть в формате YYYY-MM-DD')\n",
    "        return(date_range_list)\n",
    "    \n",
    "    if start_date_dt>end_date_dt:\n",
    "        print('Начальная дата должна быть меньше конечной')\n",
    "        return(date_range_list)\n",
    "    \n",
    "    counter = start_date_dt+datetime.timedelta(days=1)\n",
    "    \n",
    "    while counter < end_date_dt:\n",
    "        date_range_list.append(counter.strftime('%Y-%m-%d'))\n",
    "        counter += datetime.timedelta(days=1)\n",
    "        \n",
    "    return(date_range_list)\n",
    "\n",
    "date_range('2019-04-23','2019-03-30')\n",
    "date_range('2019-44-23','2019-03-30')\n",
    "date_range('2019-04-23','2019-43-30')"
   ]
  },
  {
   "cell_type": "code",
   "execution_count": 26,
   "metadata": {},
   "outputs": [
    {
     "name": "stdout",
     "output_type": "stream",
     "text": [
      "True\n",
      "False\n",
      "False\n",
      "3 dates checked\n"
     ]
    }
   ],
   "source": [
    "# Task 3\n",
    "stream = ['2018-04-02', '2018-02-29', '2018-19-02']\n",
    "\n",
    "def check_dates(any_list):\n",
    "    counter = 0\n",
    "    \n",
    "    for i in any_list:\n",
    "        try:\n",
    "            date_dt = datetime.datetime.strptime(i, '%Y-%m-%d')\n",
    "            print('True')\n",
    "        except:\n",
    "            print('False')\n",
    "        counter+=1\n",
    "        \n",
    "    return(print(counter,'dates checked'))\n",
    "\n",
    "check_dates(stream)"
   ]
  },
  {
   "cell_type": "code",
   "execution_count": 48,
   "metadata": {},
   "outputs": [
    {
     "data": {
      "text/plain": [
       "['2019-05-01',\n",
       " '2019-05-02',\n",
       " '2019-05-03',\n",
       " '2019-05-04',\n",
       " '2019-05-05',\n",
       " '2019-05-06',\n",
       " '2019-05-07',\n",
       " '2019-05-08',\n",
       " '2019-05-09',\n",
       " '2019-05-10',\n",
       " '2019-05-11',\n",
       " '2019-05-12',\n",
       " '2019-05-13',\n",
       " '2019-05-14',\n",
       " '2019-05-15',\n",
       " '2019-05-16',\n",
       " '2019-05-17',\n",
       " '2019-05-18',\n",
       " '2019-05-19',\n",
       " '2019-05-20',\n",
       " '2019-05-21',\n",
       " '2019-05-22',\n",
       " '2019-05-23',\n",
       " '2019-05-24',\n",
       " '2019-05-25']"
      ]
     },
     "execution_count": 48,
     "metadata": {},
     "output_type": "execute_result"
    }
   ],
   "source": [
    "# Task 4\n",
    "import datetime\n",
    "today_=datetime.datetime.today()\n",
    "#today_=datetime.datetime.strptime('2019-05-01', '%Y-%m-%d') для проверки вывода если сегодня 1 число\n",
    "\n",
    "def date_from_1 (today_day):\n",
    "    date_range_list=[]\n",
    "    end_date_dt = today_day-datetime.timedelta(days=1)\n",
    "    end_date = end_date_dt.strftime('%Y-%m-%d')\n",
    "    start_date = datetime.datetime.strftime(end_date_dt, '%Y-%m-01')\n",
    "    start_date = datetime.datetime.strptime(start_date, '%Y-%m-%d')\n",
    "    current_dt = start_date\n",
    "    \n",
    "    while current_dt.strftime('%Y-%m-%d') <= end_date:\n",
    "        date_range_list.append(current_dt.strftime('%Y-%m-%d'))\n",
    "        current_dt += datetime.timedelta(days=1)\n",
    "        \n",
    "    return(date_range_list)\n",
    "\n",
    "date_from_1(today_)"
   ]
  }
 ],
 "metadata": {
  "kernelspec": {
   "display_name": "Python 3",
   "language": "python",
   "name": "python3"
  },
  "language_info": {
   "codemirror_mode": {
    "name": "ipython",
    "version": 3
   },
   "file_extension": ".py",
   "mimetype": "text/x-python",
   "name": "python",
   "nbconvert_exporter": "python",
   "pygments_lexer": "ipython3",
   "version": "3.7.3"
  }
 },
 "nbformat": 4,
 "nbformat_minor": 2
}
